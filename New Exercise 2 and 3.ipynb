{
 "cells": [
  {
   "cell_type": "code",
   "execution_count": null,
   "metadata": {},
   "outputs": [],
   "source": [
    "import sqlite3\n",
    "from sqlalchemy.ext.declarative import declarative_base\n",
    "from sqlalchemy import Column, Integer, String\n",
    "import logging\n",
    "\n",
    "from extensions import engine\n",
    "from sqlalchemy.ext.declarative import declarative_base\n",
    "from sqlalchemy import Column, Integer, String\n",
    "!pip install sqlalchemy\n",
    "import pandas as pd"
   ]
  },
  {
   "cell_type": "code",
   "execution_count": null,
   "metadata": {},
   "outputs": [],
   "source": [
    "import logging\n",
    "from model import Base\n",
    "from extensions import engine\n",
    "\n",
    "logging.getLogger().setLevel(logging.INFO)"
   ]
  },
  {
   "cell_type": "code",
   "execution_count": null,
   "metadata": {},
   "outputs": [],
   "source": [
    "from sqlalchemy import create_engine\n",
    "from sqlalchemy.orm import sessionmaker\n",
    "Session = sessionmaker(bind=engine)"
   ]
  },
  {
   "cell_type": "code",
   "execution_count": null,
   "metadata": {},
   "outputs": [],
   "source": [
    "engine = create_engine(\"sqlite:///Ria.db\")"
   ]
  },
  {
   "cell_type": "code",
   "execution_count": null,
   "metadata": {},
   "outputs": [],
   "source": [
    "df = pd.read_csv('Cdata.csv')\n",
    "df.to_sql(con=engine, name=\"C Table\", if_exists='replace', index=False)"
   ]
  },
  {
   "cell_type": "code",
   "execution_count": null,
   "metadata": {},
   "outputs": [],
   "source": [
    "from sqlalchemy import create_engine, MetaData, Table\n",
    "\n",
    "\n",
    "conn = engine.connect()\n",
    "metadata = MetaData()\n",
    "stock = Table('C Table', metadata, autoload=True, autoload_with=engine)"
   ]
  },
  {
   "cell_type": "code",
   "execution_count": null,
   "metadata": {},
   "outputs": [],
   "source": [
    "query = stock.select()\n",
    "exe = conn.execute(query)\n",
    "result = exe.fetchmany(78000)\n",
    "for r in result:\n",
    "    print(r)"
   ]
  },
  {
   "cell_type": "code",
   "execution_count": null,
   "metadata": {},
   "outputs": [],
   "source": [
    "df1 = pd.read_csv('Tdata.csv')\n",
    "df1.to_sql(con=engine, name=\"T Table\", if_exists='replace', index=False)"
   ]
  },
  {
   "cell_type": "code",
   "execution_count": null,
   "metadata": {},
   "outputs": [],
   "source": [
    "from sqlalchemy import create_engine, MetaData, Table\n",
    "\n",
    "# Assuming engine is already defined, for example:\n",
    "# engine = create_engine('sqlite:///your_database.db')\n",
    "\n",
    "conn1 = engine.connect()\n",
    "metadata1 = MetaData()\n",
    "stock1 = Table('T Table', metadata1, autoload=True, autoload_with=engine)"
   ]
  },
  {
   "cell_type": "code",
   "execution_count": null,
   "metadata": {},
   "outputs": [],
   "source": [
    "query = stock1.select()\n",
    "exe = conn1.execute(query)\n",
    "result = exe.fetchmany(78000)\n",
    "for r in result:\n",
    "    print(r)"
   ]
  },
  {
   "cell_type": "code",
   "execution_count": null,
   "metadata": {},
   "outputs": [],
   "source": [
    "df2 = pd.read_csv('Rdata.csv')\n",
    "df2.to_sql(con=engine, name=\"R Table\", if_exists='replace', index=False)"
   ]
  },
  {
   "cell_type": "code",
   "execution_count": null,
   "metadata": {},
   "outputs": [],
   "source": [
    "conn2 = engine.connect()\n",
    "metadata2 = MetaData()\n",
    "stock2 = Table('R Table', metadata2, autoload=True, autoload_with=engine)"
   ]
  },
  {
   "cell_type": "code",
   "execution_count": null,
   "metadata": {},
   "outputs": [],
   "source": [
    "query = stock2.select()\n",
    "exe = conn2.execute(query)\n",
    "result = exe.fetchmany(78000)\n",
    "for r in result:\n",
    "    print(r)"
   ]
  },
  {
   "cell_type": "code",
   "execution_count": null,
   "metadata": {},
   "outputs": [],
   "source": [
    "df3 = pd.read_csv('Sdata.csv')\n",
    "df3.to_sql(con=engine, name=\"S Table\", if_exists='replace', index=False)"
   ]
  },
  {
   "cell_type": "code",
   "execution_count": null,
   "metadata": {},
   "outputs": [],
   "source": [
    "conn3 = engine.connect()\n",
    "metadata3 = MetaData()\n",
    "stock3 = Table('S Table', metadata3, autoload=True, autoload_with=engine)"
   ]
  },
  {
   "cell_type": "code",
   "execution_count": null,
   "metadata": {},
   "outputs": [],
   "source": [
    "query = stock3.select()\n",
    "exe = conn3.execute(query)\n",
    "result = exe.fetchmany(78000)\n",
    "for r in result:\n",
    "    print(r)"
   ]
  },
  {
   "cell_type": "code",
   "execution_count": null,
   "metadata": {},
   "outputs": [],
   "source": [
    "with engine.connect() as conn3:\n",
    "    result = conn2.execute(stock2.select()).fetchall()\n",
    "    for row in result:\n",
    "        print(row)"
   ]
  },
  {
   "cell_type": "code",
   "execution_count": null,
   "metadata": {},
   "outputs": [],
   "source": [
    "from sqlalchemy import create_engine, MetaData\n",
    "\n",
    "metadata = MetaData(bind=engine)\n",
    "metadata.reflect()\n",
    "\n",
    "with engine.connect() as conn:\n",
    "    for table_name in metadata.tables:\n",
    "        print(f\"Table: {table_name}\")\n",
    "        table = metadata.tables[table_name]\n",
    "        result = conn.execute(table.select()).fetchall()\n",
    "        for row in result:\n",
    "            print(row)\n",
    "        print(\"\\n\")"
   ]
  },
  {
   "cell_type": "code",
   "execution_count": null,
   "metadata": {},
   "outputs": [],
   "source": [
    "# Correcting the Q data\n",
    "import pandas as pd\n",
    "\n",
    "df = pd.read_csv('Qdata.csv')\n",
    "expected_f12_col = 'Bid price'\n",
    "columns_to_shift = df.columns[df.columns.get_loc(expected_f12_col):]\n",
    "\n",
    "\n",
    "def shift_row_if_needed(row):\n",
    "    if 'f12=' in str(row[expected_f12_col]):\n",
    "        last_non_na = row.last_valid_index()\n",
    "        shift_by = 2 if pd.isna(row[last_non_na]) else 1\n",
    "        row[columns_to_shift] = row[columns_to_shift].shift(shift_by)\n",
    "    return row\n",
    "\n",
    "# Apply the function to each row\n",
    "df = df.apply(shift_row_if_needed, axis=1)\n",
    "\n",
    "# Save the corrected dataframe back to CSV\n",
    "df.to_csv('Qdata.csv', index=False)"
   ]
  },
  {
   "cell_type": "code",
   "execution_count": null,
   "metadata": {},
   "outputs": [],
   "source": [
    "R = pd.read_csv(\"Qdata_corrected.csv\")\n",
    "R\n",
    "# List of columns to remove first three characters from\n",
    "#columns_to_modify = ['Bid market', 'Bid price', 'Bid size','Ask price', 'Ask size']\n",
    "\n",
    "# Remove first three characters from specified columns\n",
    "#for col in columns_to_modify:\n",
    "    R[col] = R[col].str[3:]\n",
    "\n",
    "# Display the resulting DataFrame\n",
    "#print(R)"
   ]
  },
  {
   "cell_type": "code",
   "execution_count": null,
   "metadata": {},
   "outputs": [],
   "source": [
    "#R1=R\n",
    "\n",
    "# List of columns to remove first three characters from\n",
    "#columns_to_modify = ['Ask market']\n",
    "\n",
    "# Remove first three characters from specified columns\n",
    "#for col in columns_to_modify:\n",
    "    #R[col] = R[col].str[4:]\n",
    "\n",
    "# Display the resulting DataFrame\n",
    "#print(R1)"
   ]
  },
  {
   "cell_type": "code",
   "execution_count": null,
   "metadata": {},
   "outputs": [],
   "source": [
    "R1.to_csv('Qdata.csv', index=False)"
   ]
  },
  {
   "cell_type": "code",
   "execution_count": null,
   "metadata": {},
   "outputs": [],
   "source": [
    "df4 = pd.read_csv('Qdata.csv')\n",
    "df4.to_sql(con=engine, name=\"Q Table\", if_exists='replace', index=False)"
   ]
  },
  {
   "cell_type": "code",
   "execution_count": null,
   "metadata": {},
   "outputs": [],
   "source": [
    "conn4= engine.connect()\n",
    "metadata4 = MetaData()\n",
    "stock4 = Table('Q Table', metadata4, autoload=True, autoload_with=engine)"
   ]
  },
  {
   "cell_type": "code",
   "execution_count": null,
   "metadata": {},
   "outputs": [],
   "source": [
    "query = stock4.select()\n",
    "exe = conn4.execute(query)\n",
    "result = exe.fetchmany(78000)\n",
    "for r in result:\n",
    "    print(r)"
   ]
  },
  {
   "cell_type": "code",
   "execution_count": null,
   "metadata": {},
   "outputs": [],
   "source": [
    "from sqlalchemy import create_engine, MetaData\n",
    "\n",
    "# Show all data base tables \n",
    "metadata = MetaData(bind=engine)\n",
    "metadata.reflect()\n",
    "\n",
    "with engine.connect() as conn:\n",
    "    for table_name in metadata.tables:\n",
    "        print(f\"Table: {table_name}\")\n",
    "        table = metadata.tables[table_name]\n",
    "        column_names = [column.name for column in table.columns]\n",
    "        print(f\"Column Names: {column_names}\")\n",
    "        result = conn.execute(table.select()).fetchall()\n",
    "        for row in result:\n",
    "            print(row)\n",
    "        print(\"\\n\")"
   ]
  },
  {
   "cell_type": "code",
   "execution_count": null,
   "metadata": {},
   "outputs": [],
   "source": [
    "\n",
    "from sqlalchemy import create_engine, MetaData, Table\n",
    "\n",
    "database_uri = 'sqlite:///Ria.db'\n",
    "engine = create_engine(database_uri)\n",
    "\n",
    "connection = engine.connect()\n",
    "metadata = MetaData()\n",
    "table_to_drop = Table('Message Type', metadata, autoload=True, autoload_with=engine)\n",
    "table_to_drop.drop(engine)\n",
    "\n",
    "connection.close()"
   ]
  },
  {
   "cell_type": "code",
   "execution_count": null,
   "metadata": {},
   "outputs": [],
   "source": [
    "from sqlalchemy import create_engine, MetaData\n",
    "\n",
    "# Show all data base tables \n",
    "metadata = MetaData(bind=engine)\n",
    "metadata.reflect()\n",
    "\n",
    "with engine.connect() as conn:\n",
    "    for table_name in metadata.tables:\n",
    "        print(f\"Table: {table_name}\")\n",
    "        table = metadata.tables[table_name]\n",
    "        column_names = [column.name for column in table.columns]\n",
    "        print(f\"Column Names: {column_names}\")\n",
    "        result = conn.execute(table.select()).fetchall()\n",
    "        for row in result:\n",
    "            print(row)\n",
    "        print(\"\\n\")"
   ]
  },
  {
   "cell_type": "code",
   "execution_count": null,
   "metadata": {},
   "outputs": [],
   "source": [
    "import pandas as pd\n",
    "\n",
    "# Load the first CSV file\n",
    "df1 = pd.read_csv('Qdata.csv')\n",
    "\n",
    "# Load the second CSV file\n",
    "df2 = pd.read_csv('Sdata.csv')\n",
    "\n",
    "# Perform the join on the four columns\n",
    "# Adjust 'how' parameter as needed: 'inner', 'outer', 'left', 'right'\n",
    "merged_df = pd.merge(df1, df2, on=['Date', 'Time', 'Instrument code'], how='inner')\n",
    "\n",
    "# Save the merged dataframe to a new CSV file\n",
    "merged_df.to_csv('Static_and_Quote.csv', index=False)"
   ]
  },
  {
   "cell_type": "code",
   "execution_count": null,
   "metadata": {},
   "outputs": [],
   "source": []
  },
  {
   "cell_type": "code",
   "execution_count": null,
   "metadata": {},
   "outputs": [],
   "source": []
  }
 ],
 "metadata": {
  "kernelspec": {
   "display_name": "Python 3",
   "language": "python",
   "name": "python3"
  },
  "language_info": {
   "codemirror_mode": {
    "name": "ipython",
    "version": 3
   },
   "file_extension": ".py",
   "mimetype": "text/x-python",
   "name": "python",
   "nbconvert_exporter": "python",
   "pygments_lexer": "ipython3",
   "version": "3.8.3"
  }
 },
 "nbformat": 4,
 "nbformat_minor": 4
}
