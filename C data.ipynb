{
 "cells": [
  {
   "cell_type": "code",
   "execution_count": 1,
   "metadata": {},
   "outputs": [
    {
     "name": "stdout",
     "output_type": "stream",
     "text": [
      "15-04-22|00:00:16:637|S|IXN22EKB63500|126|2|1407801633274000101|f1=2|f2=IXN|f4=20|f5=5|f6=2022|f7=635|f8=100|f31=iShares Global Tech ETF|f666=IXN|f677=C|f1663=SQL|f1664=A|f214=3\n",
      "\n"
     ]
    }
   ],
   "source": [
    "import pandas as pd\n",
    "file_path = \"data.txt\"\n",
    "with open(file_path, \"r\") as file:\n",
    "    lines = file.readlines()\n",
    "        \n",
    "row_index = 2  \n",
    "if row_index < len(lines):\n",
    "            print(lines[row_index])\n",
    "else:\n",
    "            print(f\"Row {row_index + 1} does not exist in the file.\")"
   ]
  },
  {
   "cell_type": "code",
   "execution_count": 2,
   "metadata": {},
   "outputs": [
    {
     "name": "stdout",
     "output_type": "stream",
     "text": [
      "Data has been processed and saved to the output file.\n"
     ]
    }
   ],
   "source": [
    "input_file_path = \"data.txt\"\n",
    "output_file_path = \"output4.txt\"\n",
    "try:\n",
    "    with open(input_file_path, \"r\") as input_file:\n",
    "        file_content = input_file.read()\n",
    "        modified_content = file_content.replace(\"|\", \",\")\n",
    "\n",
    "    with open(output_file_path, \"w\") as output_file:\n",
    "        output_file.write(modified_content)\n",
    "        \n",
    "    print(\"Data has been processed and saved to the output file.\")\n",
    "\n",
    "except FileNotFoundError:\n",
    "    print(f\"The file '{input_file_path}' was not found.\")\n",
    "except Exception as e:\n",
    "    print(f\"An error occurred: {str(e)}\")"
   ]
  },
  {
   "cell_type": "code",
   "execution_count": 3,
   "metadata": {},
   "outputs": [
    {
     "name": "stdout",
     "output_type": "stream",
     "text": [
      "Text file 'output4.txt' successfully converted to CSV file 'fileclose.csv'.\n"
     ]
    }
   ],
   "source": [
    "import csv\n",
    "\n",
    "input_file_path = \"output4.txt\"\n",
    "output_csv_path = \"fileclose.csv\"\n",
    "\n",
    "try:\n",
    "    # Open the input text file for reading\n",
    "    with open(input_file_path, \"r\") as input_file:\n",
    "        # Initialize a list to store the rows\n",
    "        rows = []\n",
    "\n",
    "        # Read all lines from the file\n",
    "        lines = input_file.readlines()\n",
    "\n",
    "        # Find the maximum number of columns in any line\n",
    "        max_columns = max(len(line.strip().split('|')) for line in lines)\n",
    "\n",
    "        # Iterate through each line and pad/truncate to match max_columns\n",
    "        for line in lines:\n",
    "            columns = line.strip().split('|')\n",
    "            if len(columns) < max_columns:\n",
    "                # Pad the line with empty cells to match max_columns\n",
    "                columns.extend([''] * (max_columns - len(columns)))\n",
    "            elif len(columns) > max_columns:\n",
    "                # Truncate the line to match max_columns\n",
    "                columns = columns[:max_columns]\n",
    "\n",
    "            rows.append(columns)\n",
    "\n",
    "    # Write the rows to the output CSV file\n",
    "    with open(output_csv_path, \"w\", newline='') as output_csv:\n",
    "        csv_writer = csv.writer(output_csv)\n",
    "        csv_writer.writerows(rows)\n",
    "\n",
    "    print(f\"Text file '{input_file_path}' successfully converted to CSV file '{output_csv_path}'.\")\n",
    "\n",
    "except FileNotFoundError:\n",
    "    print(f\"The file '{input_file_path}' was not found.\")\n",
    "except Exception as e:\n",
    "    print(f\"An error occurred: {str(e)}\")\n",
    "    \n",
    "column_names=[\"Courses\"]\n",
    "\n",
    "# Add header row while reading a CSV file\n",
    "df = pd.read_csv(\"fileclose.csv\", names=column_names)\n",
    "df.to_csv('fileclose.csv', index=False)"
   ]
  },
  {
   "cell_type": "code",
   "execution_count": 4,
   "metadata": {},
   "outputs": [
    {
     "name": "stdout",
     "output_type": "stream",
     "text": [
      "           Date          Time Message Type Instrument code Exchange Code  \\\n",
      "0      15-04-22  00:00:08:285            S   IXN22EKB61500           126   \n",
      "1      15-04-22  00:00:14:401            S   IXN22BIB63500           126   \n",
      "2      15-04-22  00:00:16:637            S   IXN22EKB63500           126   \n",
      "3      15-04-22  00:00:23:085            S   IXN22QKB61500           126   \n",
      "4      15-04-22  00:00:31:035            S   IXN24AJB64500           126   \n",
      "...         ...           ...          ...             ...           ...   \n",
      "78914  15-04-22  23:59:04:332            S   IXN22EKB20000           126   \n",
      "78915  15-04-22  23:59:44:640            S   IXN22QKB61000           126   \n",
      "78916  15-04-22  23:59:49:329            S   IXN22EKB61000           126   \n",
      "78917  15-04-22  23:59:49:451            S   IXN22EKB60500           126   \n",
      "78918  15-04-22  23:59:52:460            S   IXN22QKB60500           126   \n",
      "\n",
      "      Security Type              Unknown Bid market Bid price Bid size  ...  \\\n",
      "0                 2  1407801616570000200       f1=2    f2=IXN    f4=20  ...   \n",
      "1                 2  1407801628802000306       f1=2    f2=IXN    f4=18  ...   \n",
      "2                 2  1407801633274000101       f1=2    f2=IXN    f4=20  ...   \n",
      "3                 2  1407801646170000213       f1=2    f2=IXN    f4=20  ...   \n",
      "4                 2  1407801662070000122       f1=2    f2=IXN    f4=19  ...   \n",
      "...             ...                  ...        ...       ...      ...  ...   \n",
      "78914             2  1407974288664000019       f1=2    f2=IXN    f4=20  ...   \n",
      "78915             2  1407974369280000003       f1=2    f2=IXN    f4=20  ...   \n",
      "78916             2  1407974378658000007       f1=2    f2=IXN    f4=20  ...   \n",
      "78917             2  1407974378902000003       f1=2    f2=IXN    f4=20  ...   \n",
      "78918             2  1407974384920000009       f1=2    f2=IXN    f4=20  ...   \n",
      "\n",
      "      Message Type4 Message Type5 Message Type6 Message Type7 Message Type8  \\\n",
      "0            f677=C     f1663=SQL       f1664=A        f214=3          None   \n",
      "1            f677=C     f1663=SQL       f1664=A        f214=3          None   \n",
      "2            f677=C     f1663=SQL       f1664=A        f214=3          None   \n",
      "3            f677=P     f1663=SQL       f1664=A        f214=3          None   \n",
      "4            f677=C     f1663=SQL       f1664=A        f214=3          None   \n",
      "...             ...           ...           ...           ...           ...   \n",
      "78914        f677=C     f1663=SQL       f1664=A        f214=3          None   \n",
      "78915        f677=P     f1663=SQL       f1664=A        f214=3          None   \n",
      "78916        f677=C     f1663=SQL       f1664=A        f214=3          None   \n",
      "78917        f677=C     f1663=SQL       f1664=A        f214=3          None   \n",
      "78918        f677=P     f1663=SQL       f1664=A        f214=3          None   \n",
      "\n",
      "      Message Type9 Message Type9 Message Type9 Message Type9 Message Type9  \n",
      "0              None          None          None          None          None  \n",
      "1              None          None          None          None          None  \n",
      "2              None          None          None          None          None  \n",
      "3              None          None          None          None          None  \n",
      "4              None          None          None          None          None  \n",
      "...             ...           ...           ...           ...           ...  \n",
      "78914          None          None          None          None          None  \n",
      "78915          None          None          None          None          None  \n",
      "78916          None          None          None          None          None  \n",
      "78917          None          None          None          None          None  \n",
      "78918          None          None          None          None          None  \n",
      "\n",
      "[78919 rows x 26 columns]\n"
     ]
    }
   ],
   "source": [
    "# Splitting combined coloumn into seperate coloumn\n",
    "csv_file_path = \"fileclose.csv\"\n",
    "\n",
    "try:\n",
    "    # Read the CSV file into a pandas dataframe\n",
    "    df = pd.read_csv(csv_file_path)\n",
    "\n",
    "    # Split the \"Combined_Column\" into separate columns\n",
    "    split_data = df['Courses'].str.split(',', expand=True)\n",
    "\n",
    "    # Rename the generated columns\n",
    "    split_data.columns = ['Date', 'Time', 'Message Type', 'Instrument code', 'Exchange Code', 'Security Type', 'Unknown', 'Bid market', 'Bid price', 'Bid size','Ask market','Ask price','Ask size','Message Type1','Message Type2','Message Type3','Message Type4','Message Type5','Message Type6','Message Type7','Message Type8','Message Type9','Message Type9','Message Type9','Message Type9','Message Type9']\n",
    "\n",
    "    # Concatenate the split data columns with the original dataframe\n",
    "    df = pd.concat([df, split_data], axis=1)\n",
    "\n",
    "    # Drop the original \"Combined_Column\" if no longer needed\n",
    "    df.drop(columns=['Courses'], inplace=True)\n",
    "\n",
    "    # Display the modified dataframe\n",
    "    print(df)\n",
    "\n",
    "except FileNotFoundError:\n",
    "    print(f\"The file '{csv_file_path}' was not found.\")\n",
    "except Exception as e:\n",
    "    print(f\"An error occurred: {str(e)}\")"
   ]
  },
  {
   "cell_type": "code",
   "execution_count": 5,
   "metadata": {},
   "outputs": [
    {
     "name": "stdout",
     "output_type": "stream",
     "text": [
      "           Date          Time Message Type Instrument code Exchange Code  \\\n",
      "76784  15-04-22  23:00:05:431            C   IXN22EKB15500           126   \n",
      "76785  15-04-22  23:00:05:431            C   IXN22EKB16000           126   \n",
      "76786  15-04-22  23:00:05:431            C   IXN22EKB16500           126   \n",
      "76787  15-04-22  23:00:05:431            C   IXN22EKB17000           126   \n",
      "76788  15-04-22  23:00:05:431            C   IXN22EKB17500           126   \n",
      "...         ...           ...          ...             ...           ...   \n",
      "78133  15-04-22  23:00:05:541            C   IXN24MJB64500           126   \n",
      "78134  15-04-22  23:00:05:541            C   IXN24MJB65000           126   \n",
      "78135  15-04-22  23:00:05:541            C   IXN24MJB65500           126   \n",
      "78136  15-04-22  23:00:05:541            C   IXN24MJB66000           126   \n",
      "78137  15-04-22  23:00:05:541            C   IXN24MJB66500           126   \n",
      "\n",
      "      Security Type              Unknown Bid market Bid price Bid size  ...  \\\n",
      "76784             2  1407967210862000468    f108=23  f2181=FH    f16=0  ...   \n",
      "76785             2  1407967210862000469    f108=23  f2181=FH    f16=0  ...   \n",
      "76786             2  1407967210862000470    f108=23  f2181=FH    f16=0  ...   \n",
      "76787             2  1407967210862000471    f108=23  f2181=FH    f16=0  ...   \n",
      "76788             2  1407967210862000472    f108=23  f2181=FH    f16=0  ...   \n",
      "...             ...                  ...        ...       ...      ...  ...   \n",
      "78133             2  1407967211082000502    f108=23  f2181=FH    f16=0  ...   \n",
      "78134             2  1407967211082000503    f108=23  f2181=FH    f16=0  ...   \n",
      "78135             2  1407967211082000504    f108=23  f2181=FH    f16=0  ...   \n",
      "78136             2  1407967211082000505    f108=23  f2181=FH    f16=0  ...   \n",
      "78137             2  1407967211082000506    f108=23  f2181=FH    f16=0  ...   \n",
      "\n",
      "      Message Type4 Message Type5 Message Type6 Message Type7 Message Type8  \\\n",
      "76784          None          None          None          None          None   \n",
      "76785          None          None          None          None          None   \n",
      "76786          None          None          None          None          None   \n",
      "76787          None          None          None          None          None   \n",
      "76788          None          None          None          None          None   \n",
      "...             ...           ...           ...           ...           ...   \n",
      "78133          None          None          None          None          None   \n",
      "78134          None          None          None          None          None   \n",
      "78135          None          None          None          None          None   \n",
      "78136          None          None          None          None          None   \n",
      "78137          None          None          None          None          None   \n",
      "\n",
      "      Message Type9 Message Type9 Message Type9 Message Type9 Message Type9  \n",
      "76784          None          None          None          None          None  \n",
      "76785          None          None          None          None          None  \n",
      "76786          None          None          None          None          None  \n",
      "76787          None          None          None          None          None  \n",
      "76788          None          None          None          None          None  \n",
      "...             ...           ...           ...           ...           ...  \n",
      "78133          None          None          None          None          None  \n",
      "78134          None          None          None          None          None  \n",
      "78135          None          None          None          None          None  \n",
      "78136          None          None          None          None          None  \n",
      "78137          None          None          None          None          None  \n",
      "\n",
      "[1354 rows x 26 columns]\n"
     ]
    }
   ],
   "source": [
    "character_to_keep = 'C'\n",
    "\n",
    "# Use boolean indexing to keep rows where 'Column1' contains the character\n",
    "filtered_df = df[df['Message Type'].str.contains(character_to_keep)]\n",
    "\n",
    "# Specify the file path for the CSV output\n",
    "output_csv_path = \"finalCdata.csv\"\n",
    "\n",
    "# Save the filtered data to a new CSV file\n",
    "filtered_df.to_csv(output_csv_path, index=False)\n",
    "\n",
    "# Display the resulting DataFrame with only the desired rows\n",
    "print(filtered_df)"
   ]
  },
  {
   "cell_type": "code",
   "execution_count": 6,
   "metadata": {},
   "outputs": [
    {
     "ename": "FileNotFoundError",
     "evalue": "[Errno 2] File PerfectCdata.csv does not exist: 'PerfectCdata.csv'",
     "output_type": "error",
     "traceback": [
      "\u001b[0;31m---------------------------------------------------------------------------\u001b[0m",
      "\u001b[0;31mFileNotFoundError\u001b[0m                         Traceback (most recent call last)",
      "\u001b[0;32m<ipython-input-6-cff8482e3c5d>\u001b[0m in \u001b[0;36m<module>\u001b[0;34m\u001b[0m\n\u001b[0;32m----> 1\u001b[0;31m \u001b[0mR\u001b[0m \u001b[0;34m=\u001b[0m \u001b[0mpd\u001b[0m\u001b[0;34m.\u001b[0m\u001b[0mread_csv\u001b[0m\u001b[0;34m(\u001b[0m\u001b[0;34m\"PerfectCdata.csv\"\u001b[0m\u001b[0;34m)\u001b[0m\u001b[0;34m\u001b[0m\u001b[0;34m\u001b[0m\u001b[0m\n\u001b[0m\u001b[1;32m      2\u001b[0m \u001b[0mR\u001b[0m\u001b[0;34m\u001b[0m\u001b[0;34m\u001b[0m\u001b[0m\n",
      "\u001b[0;32m~/opt/anaconda3/lib/python3.8/site-packages/pandas/io/parsers.py\u001b[0m in \u001b[0;36mparser_f\u001b[0;34m(filepath_or_buffer, sep, delimiter, header, names, index_col, usecols, squeeze, prefix, mangle_dupe_cols, dtype, engine, converters, true_values, false_values, skipinitialspace, skiprows, skipfooter, nrows, na_values, keep_default_na, na_filter, verbose, skip_blank_lines, parse_dates, infer_datetime_format, keep_date_col, date_parser, dayfirst, cache_dates, iterator, chunksize, compression, thousands, decimal, lineterminator, quotechar, quoting, doublequote, escapechar, comment, encoding, dialect, error_bad_lines, warn_bad_lines, delim_whitespace, low_memory, memory_map, float_precision)\u001b[0m\n\u001b[1;32m    674\u001b[0m         )\n\u001b[1;32m    675\u001b[0m \u001b[0;34m\u001b[0m\u001b[0m\n\u001b[0;32m--> 676\u001b[0;31m         \u001b[0;32mreturn\u001b[0m \u001b[0m_read\u001b[0m\u001b[0;34m(\u001b[0m\u001b[0mfilepath_or_buffer\u001b[0m\u001b[0;34m,\u001b[0m \u001b[0mkwds\u001b[0m\u001b[0;34m)\u001b[0m\u001b[0;34m\u001b[0m\u001b[0;34m\u001b[0m\u001b[0m\n\u001b[0m\u001b[1;32m    677\u001b[0m \u001b[0;34m\u001b[0m\u001b[0m\n\u001b[1;32m    678\u001b[0m     \u001b[0mparser_f\u001b[0m\u001b[0;34m.\u001b[0m\u001b[0m__name__\u001b[0m \u001b[0;34m=\u001b[0m \u001b[0mname\u001b[0m\u001b[0;34m\u001b[0m\u001b[0;34m\u001b[0m\u001b[0m\n",
      "\u001b[0;32m~/opt/anaconda3/lib/python3.8/site-packages/pandas/io/parsers.py\u001b[0m in \u001b[0;36m_read\u001b[0;34m(filepath_or_buffer, kwds)\u001b[0m\n\u001b[1;32m    446\u001b[0m \u001b[0;34m\u001b[0m\u001b[0m\n\u001b[1;32m    447\u001b[0m     \u001b[0;31m# Create the parser.\u001b[0m\u001b[0;34m\u001b[0m\u001b[0;34m\u001b[0m\u001b[0;34m\u001b[0m\u001b[0m\n\u001b[0;32m--> 448\u001b[0;31m     \u001b[0mparser\u001b[0m \u001b[0;34m=\u001b[0m \u001b[0mTextFileReader\u001b[0m\u001b[0;34m(\u001b[0m\u001b[0mfp_or_buf\u001b[0m\u001b[0;34m,\u001b[0m \u001b[0;34m**\u001b[0m\u001b[0mkwds\u001b[0m\u001b[0;34m)\u001b[0m\u001b[0;34m\u001b[0m\u001b[0;34m\u001b[0m\u001b[0m\n\u001b[0m\u001b[1;32m    449\u001b[0m \u001b[0;34m\u001b[0m\u001b[0m\n\u001b[1;32m    450\u001b[0m     \u001b[0;32mif\u001b[0m \u001b[0mchunksize\u001b[0m \u001b[0;32mor\u001b[0m \u001b[0miterator\u001b[0m\u001b[0;34m:\u001b[0m\u001b[0;34m\u001b[0m\u001b[0;34m\u001b[0m\u001b[0m\n",
      "\u001b[0;32m~/opt/anaconda3/lib/python3.8/site-packages/pandas/io/parsers.py\u001b[0m in \u001b[0;36m__init__\u001b[0;34m(self, f, engine, **kwds)\u001b[0m\n\u001b[1;32m    878\u001b[0m             \u001b[0mself\u001b[0m\u001b[0;34m.\u001b[0m\u001b[0moptions\u001b[0m\u001b[0;34m[\u001b[0m\u001b[0;34m\"has_index_names\"\u001b[0m\u001b[0;34m]\u001b[0m \u001b[0;34m=\u001b[0m \u001b[0mkwds\u001b[0m\u001b[0;34m[\u001b[0m\u001b[0;34m\"has_index_names\"\u001b[0m\u001b[0;34m]\u001b[0m\u001b[0;34m\u001b[0m\u001b[0;34m\u001b[0m\u001b[0m\n\u001b[1;32m    879\u001b[0m \u001b[0;34m\u001b[0m\u001b[0m\n\u001b[0;32m--> 880\u001b[0;31m         \u001b[0mself\u001b[0m\u001b[0;34m.\u001b[0m\u001b[0m_make_engine\u001b[0m\u001b[0;34m(\u001b[0m\u001b[0mself\u001b[0m\u001b[0;34m.\u001b[0m\u001b[0mengine\u001b[0m\u001b[0;34m)\u001b[0m\u001b[0;34m\u001b[0m\u001b[0;34m\u001b[0m\u001b[0m\n\u001b[0m\u001b[1;32m    881\u001b[0m \u001b[0;34m\u001b[0m\u001b[0m\n\u001b[1;32m    882\u001b[0m     \u001b[0;32mdef\u001b[0m \u001b[0mclose\u001b[0m\u001b[0;34m(\u001b[0m\u001b[0mself\u001b[0m\u001b[0;34m)\u001b[0m\u001b[0;34m:\u001b[0m\u001b[0;34m\u001b[0m\u001b[0;34m\u001b[0m\u001b[0m\n",
      "\u001b[0;32m~/opt/anaconda3/lib/python3.8/site-packages/pandas/io/parsers.py\u001b[0m in \u001b[0;36m_make_engine\u001b[0;34m(self, engine)\u001b[0m\n\u001b[1;32m   1112\u001b[0m     \u001b[0;32mdef\u001b[0m \u001b[0m_make_engine\u001b[0m\u001b[0;34m(\u001b[0m\u001b[0mself\u001b[0m\u001b[0;34m,\u001b[0m \u001b[0mengine\u001b[0m\u001b[0;34m=\u001b[0m\u001b[0;34m\"c\"\u001b[0m\u001b[0;34m)\u001b[0m\u001b[0;34m:\u001b[0m\u001b[0;34m\u001b[0m\u001b[0;34m\u001b[0m\u001b[0m\n\u001b[1;32m   1113\u001b[0m         \u001b[0;32mif\u001b[0m \u001b[0mengine\u001b[0m \u001b[0;34m==\u001b[0m \u001b[0;34m\"c\"\u001b[0m\u001b[0;34m:\u001b[0m\u001b[0;34m\u001b[0m\u001b[0;34m\u001b[0m\u001b[0m\n\u001b[0;32m-> 1114\u001b[0;31m             \u001b[0mself\u001b[0m\u001b[0;34m.\u001b[0m\u001b[0m_engine\u001b[0m \u001b[0;34m=\u001b[0m \u001b[0mCParserWrapper\u001b[0m\u001b[0;34m(\u001b[0m\u001b[0mself\u001b[0m\u001b[0;34m.\u001b[0m\u001b[0mf\u001b[0m\u001b[0;34m,\u001b[0m \u001b[0;34m**\u001b[0m\u001b[0mself\u001b[0m\u001b[0;34m.\u001b[0m\u001b[0moptions\u001b[0m\u001b[0;34m)\u001b[0m\u001b[0;34m\u001b[0m\u001b[0;34m\u001b[0m\u001b[0m\n\u001b[0m\u001b[1;32m   1115\u001b[0m         \u001b[0;32melse\u001b[0m\u001b[0;34m:\u001b[0m\u001b[0;34m\u001b[0m\u001b[0;34m\u001b[0m\u001b[0m\n\u001b[1;32m   1116\u001b[0m             \u001b[0;32mif\u001b[0m \u001b[0mengine\u001b[0m \u001b[0;34m==\u001b[0m \u001b[0;34m\"python\"\u001b[0m\u001b[0;34m:\u001b[0m\u001b[0;34m\u001b[0m\u001b[0;34m\u001b[0m\u001b[0m\n",
      "\u001b[0;32m~/opt/anaconda3/lib/python3.8/site-packages/pandas/io/parsers.py\u001b[0m in \u001b[0;36m__init__\u001b[0;34m(self, src, **kwds)\u001b[0m\n\u001b[1;32m   1889\u001b[0m         \u001b[0mkwds\u001b[0m\u001b[0;34m[\u001b[0m\u001b[0;34m\"usecols\"\u001b[0m\u001b[0;34m]\u001b[0m \u001b[0;34m=\u001b[0m \u001b[0mself\u001b[0m\u001b[0;34m.\u001b[0m\u001b[0musecols\u001b[0m\u001b[0;34m\u001b[0m\u001b[0;34m\u001b[0m\u001b[0m\n\u001b[1;32m   1890\u001b[0m \u001b[0;34m\u001b[0m\u001b[0m\n\u001b[0;32m-> 1891\u001b[0;31m         \u001b[0mself\u001b[0m\u001b[0;34m.\u001b[0m\u001b[0m_reader\u001b[0m \u001b[0;34m=\u001b[0m \u001b[0mparsers\u001b[0m\u001b[0;34m.\u001b[0m\u001b[0mTextReader\u001b[0m\u001b[0;34m(\u001b[0m\u001b[0msrc\u001b[0m\u001b[0;34m,\u001b[0m \u001b[0;34m**\u001b[0m\u001b[0mkwds\u001b[0m\u001b[0;34m)\u001b[0m\u001b[0;34m\u001b[0m\u001b[0;34m\u001b[0m\u001b[0m\n\u001b[0m\u001b[1;32m   1892\u001b[0m         \u001b[0mself\u001b[0m\u001b[0;34m.\u001b[0m\u001b[0munnamed_cols\u001b[0m \u001b[0;34m=\u001b[0m \u001b[0mself\u001b[0m\u001b[0;34m.\u001b[0m\u001b[0m_reader\u001b[0m\u001b[0;34m.\u001b[0m\u001b[0munnamed_cols\u001b[0m\u001b[0;34m\u001b[0m\u001b[0;34m\u001b[0m\u001b[0m\n\u001b[1;32m   1893\u001b[0m \u001b[0;34m\u001b[0m\u001b[0m\n",
      "\u001b[0;32mpandas/_libs/parsers.pyx\u001b[0m in \u001b[0;36mpandas._libs.parsers.TextReader.__cinit__\u001b[0;34m()\u001b[0m\n",
      "\u001b[0;32mpandas/_libs/parsers.pyx\u001b[0m in \u001b[0;36mpandas._libs.parsers.TextReader._setup_parser_source\u001b[0;34m()\u001b[0m\n",
      "\u001b[0;31mFileNotFoundError\u001b[0m: [Errno 2] File PerfectCdata.csv does not exist: 'PerfectCdata.csv'"
     ]
    }
   ],
   "source": [
    "R = pd.read_csv(\"PerfectCdata.csv\")\n",
    "R\n"
   ]
  },
  {
   "cell_type": "code",
   "execution_count": 37,
   "metadata": {},
   "outputs": [],
   "source": []
  },
  {
   "cell_type": "code",
   "execution_count": 40,
   "metadata": {},
   "outputs": [],
   "source": []
  },
  {
   "cell_type": "code",
   "execution_count": 41,
   "metadata": {},
   "outputs": [],
   "source": []
  },
  {
   "cell_type": "code",
   "execution_count": 43,
   "metadata": {},
   "outputs": [],
   "source": []
  },
  {
   "cell_type": "code",
   "execution_count": 45,
   "metadata": {},
   "outputs": [],
   "source": []
  },
  {
   "cell_type": "code",
   "execution_count": null,
   "metadata": {},
   "outputs": [],
   "source": [
    "R['Open price'] = R['Open price'].str[4:]\n",
    "R.to_csv('3.csv', index=False)"
   ]
  }
 ],
 "metadata": {
  "kernelspec": {
   "display_name": "Python 3",
   "language": "python",
   "name": "python3"
  },
  "language_info": {
   "codemirror_mode": {
    "name": "ipython",
    "version": 3
   },
   "file_extension": ".py",
   "mimetype": "text/x-python",
   "name": "python",
   "nbconvert_exporter": "python",
   "pygments_lexer": "ipython3",
   "version": "3.8.3"
  }
 },
 "nbformat": 4,
 "nbformat_minor": 4
}
