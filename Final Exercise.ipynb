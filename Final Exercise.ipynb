{
 "cells": [
  {
   "cell_type": "code",
   "execution_count": 6,
   "metadata": {},
   "outputs": [],
   "source": [
    "import pandas as pd\n",
    "from datetime import datetime, timedelta"
   ]
  },
  {
   "cell_type": "code",
   "execution_count": 7,
   "metadata": {},
   "outputs": [
    {
     "name": "stdout",
     "output_type": "stream",
     "text": [
      "Enter the instrument code: IXN22HJB41000\n",
      "Enter the chosen time (HH:MM:SS:fff): 14:13:59:332\n",
      "Found 2 matching quotes:\n",
      "       Date          Time Message Type Instrument code  Exchange Code  Security Type       Unknown Bid market  Bid price Bid size  Ask market  Ask price Ask size                DateTime\n",
      " 15/04/2022  14:13:59:332            Q   IXN22HJB41000            126              2  1.410000e+18         15       0.35      264        15.0       1.55      132 2022-04-15 14:13:59.332\n",
      " 15/04/2022  14:20:47:403            Q   IXN22HJB41000            126              2  1.410000e+18         24       0.35      257        24.0       1.55      182 2022-04-15 14:20:47.403\n"
     ]
    }
   ],
   "source": [
    "#  This code wasnt showing my data so i adapted the idea at the bottom\n",
    "\n",
    "df4 = pd.read_csv('Qdata.csv')\n",
    "\n",
    "# Combine 'Date' and 'Time' into a 'DateTime' column for filtering\n",
    "df4['DateTime'] = pd.to_datetime(df4['Date'] + ' ' + df4['Time'], format='%d/%m/%Y %H:%M:%S:%f')\n",
    "\n",
    "# function to filter and print quote data\n",
    "def main():\n",
    "    # Input instrument code and chosen time\n",
    "    instrument_code = input(\"Enter the instrument code: \")\n",
    "    chosen_time_str = input(\"Enter the chosen time (HH:MM:SS:fff): \")\n",
    "    \n",
    "    # Convert chosen time to a datetime.time object\n",
    "    chosen_time = datetime.strptime(chosen_time_str, '%H:%M:%S:%f').time()\n",
    "    \n",
    "    # time \n",
    "    start_time = (datetime.combine(datetime.today(), chosen_time) - timedelta(minutes=10)).time()\n",
    "    end_time = (datetime.combine(datetime.today(), chosen_time) + timedelta(minutes=10)).time()\n",
    "\n",
    "    # Filter quote data within the time window and for the given instrument\n",
    "    quote_data = df4[\n",
    "        (df4['Instrument code'] == instrument_code) &\n",
    "        (df4['DateTime'].dt.time >= start_time) &\n",
    "        (df4['DateTime'].dt.time <= end_time)\n",
    "    ]\n",
    "\n",
    "    # Print \n",
    "    if not quote_data.empty:\n",
    "        print(f\"Found {len(quote_data)} matching quotes:\")\n",
    "        print(quote_data.to_string(index=False))\n",
    "    else:\n",
    "        print(\"No quote data found for the given instrument code and time window.\")\n",
    "\n",
    "if __name__ == \"__main__\":\n",
    "    main()"
   ]
  },
  {
   "cell_type": "code",
   "execution_count": null,
   "metadata": {},
   "outputs": [
    {
     "name": "stderr",
     "output_type": "stream",
     "text": [
      "/Users/RiaHoondle/opt/anaconda3/lib/python3.8/site-packages/IPython/core/interactiveshell.py:3071: DtypeWarning: Columns (7,12) have mixed types.Specify dtype option on import or set low_memory=False.\n",
      "  has_raised = await self.run_ast_nodes(code_ast.body, cell_name,\n"
     ]
    }
   ],
   "source": [
    "# Couldn't create a code that showed the data within 10 mins above and 10 mins below so improvised and adapted to show 110 rows above and 100 rows below\n",
    "# Didnt include static data because it didnt seem to match with any rows when I tried to join the Q data and S data .csv files together so I assumed there was no matching data\n",
    "\n",
    "\n",
    "import pandas as pd\n",
    "from datetime import datetime\n",
    "\n",
    "df4 = pd.read_csv('Qdata.csv')\n",
    "\n",
    "# Combine 'Date' and 'Time' into a 'DateTime' column for filtering\n",
    "df4['DateTime'] = pd.to_datetime(df4['Date'] + ' ' + df4['Time'], format='%d/%m/%Y %H:%M:%S:%f')\n",
    "\n",
    "# function to filter and print quote data\n",
    "def main():\n",
    "    # instrument code and chosen time\n",
    "    instrument_code = input(\"Enter the instrument code: \")\n",
    "    chosen_time_str = input(\"Enter the chosen time (HH:MM:SS:fff): \")\n",
    "    \n",
    "    # Convert chosen time to a datetime object\n",
    "    chosen_datetime = datetime.strptime(chosen_time_str, '%H:%M:%S:%f')\n",
    "    \n",
    "    # Search for row matching the instrument code and chosen time\n",
    "    matched_row_index = df4[\n",
    "        (df4['Instrument code'] == instrument_code) &\n",
    "        (df4['DateTime'].dt.time == chosen_datetime.time())\n",
    "    ].index\n",
    "\n",
    "    # Check \n",
    "    if matched_row_index.empty:\n",
    "        print(\"No matching quote found for the given instrument code and time.\")\n",
    "        return\n",
    "\n",
    "    # Get the index of the first matched row (in case of multiple matches)\n",
    "    matched_row_index = matched_row_index[0]\n",
    "\n",
    "    # Range of rows \n",
    "    start_index = max(0, matched_row_index - 100)\n",
    "    end_index = min(len(df4), matched_row_index + 110)  # +11 because the end index is exclusive\n",
    "\n",
    "    # Print\n",
    "    print(df4.iloc[start_index:end_index])\n",
    "\n",
    "if __name__ == \"__main__\":\n",
    "    main()"
   ]
  },
  {
   "cell_type": "code",
   "execution_count": null,
   "metadata": {},
   "outputs": [],
   "source": []
  }
 ],
 "metadata": {
  "kernelspec": {
   "display_name": "Python 3",
   "language": "python",
   "name": "python3"
  },
  "language_info": {
   "codemirror_mode": {
    "name": "ipython",
    "version": 3
   },
   "file_extension": ".py",
   "mimetype": "text/x-python",
   "name": "python",
   "nbconvert_exporter": "python",
   "pygments_lexer": "ipython3",
   "version": "3.8.3"
  }
 },
 "nbformat": 4,
 "nbformat_minor": 4
}
